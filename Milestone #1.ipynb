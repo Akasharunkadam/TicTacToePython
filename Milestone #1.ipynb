{
 "cells": [
  {
   "cell_type": "code",
   "execution_count": 1,
   "metadata": {},
   "outputs": [],
   "source": [
    "from IPython.display import clear_output\n",
    "\n",
    "def dis_board(loc):\n",
    "    clear_output()\n",
    "    print(loc[7]+ '|' +loc[8] + '|'+ loc[9])\n",
    "    print('_|_|_')       \n",
    "    print(loc[4]+ '|' +loc[5] + '|'+ loc[6])\n",
    "    print('_|_|_')\n",
    "    print(loc[1]+ '|' +loc[2] + '|'+ loc[3])\n",
    "    print(' | |')"
   ]
  },
  {
   "cell_type": "code",
   "execution_count": 2,
   "metadata": {},
   "outputs": [],
   "source": [
    "test=[' ',' ',' ',' ',' ',' ',' ',' ',' ',' ']"
   ]
  },
  {
   "cell_type": "code",
   "execution_count": 3,
   "metadata": {},
   "outputs": [
    {
     "name": "stdout",
     "output_type": "stream",
     "text": [
      " | | \n",
      "_|_|_\n",
      " | | \n",
      "_|_|_\n",
      " | | \n",
      " | |\n"
     ]
    }
   ],
   "source": [
    "dis_board(test)"
   ]
  },
  {
   "cell_type": "code",
   "execution_count": 4,
   "metadata": {},
   "outputs": [],
   "source": [
    "def player_input():\n",
    "    marker=''\n",
    "    while marker !='X' and marker!='O':\n",
    "        marker=input('Choose X or O as P1').upper()\n",
    "    if marker == 'X':\n",
    "        return ('X','O')\n",
    "    else:\n",
    "        return ('O','X')"
   ]
  },
  {
   "cell_type": "code",
   "execution_count": 5,
   "metadata": {},
   "outputs": [],
   "source": [
    "def place_marker(boards, marker, position):\n",
    "    boards[position]=marker"
   ]
  },
  {
   "cell_type": "code",
   "execution_count": 6,
   "metadata": {},
   "outputs": [
    {
     "name": "stdout",
     "output_type": "stream",
     "text": [
      "X| | \n",
      "_|_|_\n",
      " | | \n",
      "_|_|_\n",
      " | | \n",
      " | |\n"
     ]
    }
   ],
   "source": [
    "place_marker(test,'X',7)\n",
    "dis_board(test)"
   ]
  },
  {
   "cell_type": "code",
   "execution_count": 7,
   "metadata": {},
   "outputs": [],
   "source": [
    "def win_check(boards,mark):\n",
    "    if(((boards[1]==boards[2]==boards[3]==mark)or(boards[4]==boards[5]==boards[6]==mark)or(boards[7]==boards[8]==boards[9]==mark))or\n",
    "    ((boards[1]==boards[4]==boards[7]==mark)or(boards[2]==boards[5]==boards[8]==mark)or(boards[3]==boards[6]==boards[9]==mark))or\n",
    "    ((boards[1]==boards[5]==boards[9]==mark)or(boards[3]==boards[5]==boards[7]==mark))):\n",
    "        return True\n",
    "    else:\n",
    "        pass"
   ]
  },
  {
   "cell_type": "code",
   "execution_count": 8,
   "metadata": {},
   "outputs": [
    {
     "name": "stdout",
     "output_type": "stream",
     "text": [
      "X| | \n",
      "_|_|_\n",
      " | | \n",
      "_|_|_\n",
      " | | \n",
      " | |\n"
     ]
    }
   ],
   "source": [
    "dis_board(test)"
   ]
  },
  {
   "cell_type": "code",
   "execution_count": 9,
   "metadata": {},
   "outputs": [],
   "source": [
    "win_check(test,'X')"
   ]
  },
  {
   "cell_type": "code",
   "execution_count": 10,
   "metadata": {},
   "outputs": [],
   "source": [
    "import random\n",
    "def choose_first():\n",
    "    pl=random.randint(0,1)\n",
    "    \n",
    "    if(pl==0):\n",
    "        return 'Player 1 goes'\n",
    "    else:\n",
    "        return 'Player 2 goes'"
   ]
  },
  {
   "cell_type": "code",
   "execution_count": 11,
   "metadata": {},
   "outputs": [],
   "source": [
    "def space_check(boards, position):\n",
    "    if boards[position]==' ':\n",
    "        return 'Position available'"
   ]
  },
  {
   "cell_type": "code",
   "execution_count": 12,
   "metadata": {},
   "outputs": [],
   "source": [
    "def full_board_check(boards):\n",
    "    for i in range(1,10):\n",
    "        if space_check(boards,i):\n",
    "            return False\n",
    "        else:\n",
    "            return True      "
   ]
  },
  {
   "cell_type": "code",
   "execution_count": 13,
   "metadata": {},
   "outputs": [],
   "source": [
    "def player_choice(boards):\n",
    "    position =0\n",
    "    while position not in range(1,10)or not space_check(boards,position):\n",
    "        position=int(input('Choose the position:'))\n",
    "    return position"
   ]
  },
  {
   "cell_type": "code",
   "execution_count": 14,
   "metadata": {},
   "outputs": [],
   "source": [
    "def replay():\n",
    "    choice==input(\"Wanna go again:\")\n",
    "    return choice==\"YES\""
   ]
  },
  {
   "cell_type": "code",
   "execution_count": null,
   "metadata": {},
   "outputs": [],
   "source": [
    "print(\"Hello muggles wanna go tic tac toe\")\n",
    "while True:\n",
    "    the_board=[' ']*10\n",
    "    p1_mark,p2_mark=player_input()\n",
    "    dis_board(the_board)\n",
    "    turn=choose_first()\n",
    "    print(turn)\n",
    "    play_game=input('Start?')\n",
    "    if play_game=='Y':\n",
    "        On=True\n",
    "    else:\n",
    "        On= False\n",
    "    while On:\n",
    "        if turn=='Player 1 goes':\n",
    "            \n",
    "            dis_board(the_board)\n",
    "            \n",
    "            position=player_choice(the_board)\n",
    "            \n",
    "            place_marker(the_board,p1_mark,position)\n",
    "            \n",
    "            if win_check(the_board,p1_mark):\n",
    "                dis_board(the_board)\n",
    "                print('Congo bruh 1')\n",
    "                On=False\n",
    "            else:\n",
    "                if full_board_check(the_board):\n",
    "                    dis_board(the_board)\n",
    "                    print('Tie :(')\n",
    "                    break\n",
    "                else:\n",
    "                    turn='Player 2 goes'\n",
    "        else:\n",
    "            turn=='Player 2 goes'\n",
    "            \n",
    "            dis_board(the_board)\n",
    "            \n",
    "            position=player_choice(the_board)\n",
    "            \n",
    "            place_marker(the_board,p2_mark,position)\n",
    "            \n",
    "            if win_check(the_board,p2_mark):\n",
    "                dis_board(the_board)\n",
    "                print('Congo bruh 2')\n",
    "                On=False\n",
    "            else:\n",
    "                if full_board_check(the_board):\n",
    "                    dis_board(the_board)\n",
    "                    print('Tie :(')\n",
    "                    break\n",
    "                else:\n",
    "                    turn='Player 1 goes'\n",
    "    if not replay():\n",
    "        break"
   ]
  }
 ],
 "metadata": {
  "kernelspec": {
   "display_name": "Python 3",
   "language": "python",
   "name": "python3"
  },
  "language_info": {
   "codemirror_mode": {
    "name": "ipython",
    "version": 3
   },
   "file_extension": ".py",
   "mimetype": "text/x-python",
   "name": "python",
   "nbconvert_exporter": "python",
   "pygments_lexer": "ipython3",
   "version": "3.8.5"
  }
 },
 "nbformat": 4,
 "nbformat_minor": 4
}
